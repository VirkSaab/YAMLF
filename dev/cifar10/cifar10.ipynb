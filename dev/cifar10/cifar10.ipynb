{
 "cells": [
  {
   "cell_type": "markdown",
   "metadata": {},
   "source": [
    "This tutorial explains the pipeline of YAML Framework with CIFAR10 dataset. First, let's set the automatic reload for jupyter notebook."
   ]
  },
  {
   "cell_type": "code",
   "execution_count": 1,
   "metadata": {
    "ExecuteTime": {
     "end_time": "2020-06-29T17:08:53.336024Z",
     "start_time": "2020-06-29T17:08:53.316396Z"
    }
   },
   "outputs": [],
   "source": [
    "# To automatically reload the functions\n",
    "%load_ext autoreload\n",
    "%autoreload 2"
   ]
  },
  {
   "cell_type": "markdown",
   "metadata": {},
   "source": [
    "Since this framework is not published to PyPi yet. You can install it via git and append the path as follows."
   ]
  },
  {
   "cell_type": "code",
   "execution_count": 2,
   "metadata": {
    "ExecuteTime": {
     "end_time": "2020-06-29T17:08:54.249259Z",
     "start_time": "2020-06-29T17:08:54.234270Z"
    }
   },
   "outputs": [],
   "source": [
    "import sys\n",
    "sys.path.append('../yamlf')"
   ]
  },
  {
   "cell_type": "markdown",
   "metadata": {},
   "source": [
    "# Setting Hyperparameters\n",
    "There are two ways to set hyperparameters:\n",
    " 1. create a python dict:\n",
    " `{batchsize: 64, device: \"cuda\", chkpt_dir: \"chkpts\"}`\n",
    " 2. use default_settings.DefaultSettings class:\n",
    "        from default_settings import DefaultSettings\n",
    "        defs = DefaultSettings.init(\"data\", \"chkpts\")"
   ]
  },
  {
   "cell_type": "code",
   "execution_count": 11,
   "metadata": {
    "ExecuteTime": {
     "end_time": "2020-06-29T17:12:55.058248Z",
     "start_time": "2020-06-29T17:12:55.033310Z"
    }
   },
   "outputs": [
    {
     "data": {
      "text/plain": [
       "{'low_storage': False,\n",
       " 'DN': 'inputs',\n",
       " 'LN': 'targets',\n",
       " 'scpc': None,\n",
       " 'ltoc': None,\n",
       " 'ctol': None,\n",
       " 'datadir': PosixPath('data'),\n",
       " 'chkptdir': PosixPath('chkpts'),\n",
       " 'chkpt_filename': 'chkpt.pt',\n",
       " 'wts_filename': 'wts.pt',\n",
       " 'tbwriter': <torch.utils.tensorboard.writer.SummaryWriter at 0x7f50de31fac0>,\n",
       " 'num_folds': 5,\n",
       " 'batchsize': 64,\n",
       " 'num_workers': 8,\n",
       " 'epochs': 5,\n",
       " 'init_epoch': 0,\n",
       " 'lr': 0.01,\n",
       " 'moms': (0.95, 0.85),\n",
       " 'wd': 0.0,\n",
       " 'dropout': 0.1,\n",
       " 'train_iters': None,\n",
       " 'val_iters': None,\n",
       " 'device': device(type='cuda')}"
      ]
     },
     "execution_count": 11,
     "metadata": {},
     "output_type": "execute_result"
    }
   ],
   "source": [
    "from default_settings import DefaultSettings\n",
    "\n",
    "defs = DefaultSettings.init()\n",
    "defs"
   ]
  },
  {
   "cell_type": "markdown",
   "metadata": {},
   "source": [
    "# Load Data"
   ]
  },
  {
   "cell_type": "code",
   "execution_count": 14,
   "metadata": {
    "ExecuteTime": {
     "end_time": "2020-06-29T17:14:52.925756Z",
     "start_time": "2020-06-29T17:14:52.663234Z"
    }
   },
   "outputs": [],
   "source": [
    "import torchvision as tv"
   ]
  },
  {
   "cell_type": "code",
   "execution_count": 18,
   "metadata": {
    "ExecuteTime": {
     "end_time": "2020-06-29T17:17:48.857417Z",
     "start_time": "2020-06-29T17:17:48.814262Z"
    }
   },
   "outputs": [
    {
     "ename": "NameError",
     "evalue": "name 'to_tensor' is not defined",
     "output_type": "error",
     "traceback": [
      "\u001b[0;31m---------------------------------------------------------------------------\u001b[0m",
      "\u001b[0;31mNameError\u001b[0m                                 Traceback (most recent call last)",
      "\u001b[0;32m<ipython-input-18-569060eb27de>\u001b[0m in \u001b[0;36m<module>\u001b[0;34m\u001b[0m\n\u001b[1;32m     10\u001b[0m \u001b[0;31m#     tv.transforms.Normalize(*cifar_stats)\u001b[0m\u001b[0;34m\u001b[0m\u001b[0;34m\u001b[0m\u001b[0;34m\u001b[0m\u001b[0m\n\u001b[1;32m     11\u001b[0m ])\n\u001b[0;32m---> 12\u001b[0;31m \u001b[0mtest_tsfms\u001b[0m  \u001b[0;34m=\u001b[0m \u001b[0mtv\u001b[0m\u001b[0;34m.\u001b[0m\u001b[0mtransforms\u001b[0m\u001b[0;34m.\u001b[0m\u001b[0mCompose\u001b[0m\u001b[0;34m(\u001b[0m\u001b[0;34m[\u001b[0m\u001b[0mto_tensor\u001b[0m\u001b[0;34m,\u001b[0m \u001b[0mtv\u001b[0m\u001b[0;34m.\u001b[0m\u001b[0mtransforms\u001b[0m\u001b[0;34m.\u001b[0m\u001b[0mNormalize\u001b[0m\u001b[0;34m(\u001b[0m\u001b[0;34m*\u001b[0m\u001b[0mcifar_stats\u001b[0m\u001b[0;34m)\u001b[0m\u001b[0;34m]\u001b[0m\u001b[0;34m)\u001b[0m\u001b[0;34m\u001b[0m\u001b[0;34m\u001b[0m\u001b[0m\n\u001b[0m\u001b[1;32m     13\u001b[0m \u001b[0;34m\u001b[0m\u001b[0m\n\u001b[1;32m     14\u001b[0m \u001b[0mtrainset\u001b[0m \u001b[0;34m=\u001b[0m \u001b[0mtv\u001b[0m\u001b[0;34m.\u001b[0m\u001b[0mdatasets\u001b[0m\u001b[0;34m.\u001b[0m\u001b[0mCIFAR10\u001b[0m\u001b[0;34m(\u001b[0m\u001b[0mroot\u001b[0m\u001b[0;34m=\u001b[0m\u001b[0;34m'./data'\u001b[0m\u001b[0;34m,\u001b[0m \u001b[0mtrain\u001b[0m\u001b[0;34m=\u001b[0m\u001b[0;32mTrue\u001b[0m\u001b[0;34m,\u001b[0m \u001b[0mdownload\u001b[0m\u001b[0;34m=\u001b[0m\u001b[0;32mTrue\u001b[0m\u001b[0;34m,\u001b[0m \u001b[0mtransform\u001b[0m\u001b[0;34m=\u001b[0m\u001b[0mtrain_tsfms\u001b[0m\u001b[0;34m)\u001b[0m\u001b[0;34m\u001b[0m\u001b[0;34m\u001b[0m\u001b[0m\n",
      "\u001b[0;31mNameError\u001b[0m: name 'to_tensor' is not defined"
     ]
    }
   ],
   "source": [
    "train_tsfms = tv.transforms.Compose([\n",
    "#     tv.transforms.RandomChoice([\n",
    "#         PilRandomDihedral(),\n",
    "#         RandomResizedCrop(32),\n",
    "#         to_grayscale_rgb,\n",
    "#         tv.transforms.RandomHorizontalFlip(),\n",
    "#         tv.transforms.RandomRotation(10)\n",
    "#     ]),\n",
    "    tv.transforms.ToTensor(),\n",
    "#     tv.transforms.Normalize(*cifar_stats)\n",
    "])\n",
    "test_tsfms  = tv.transforms.Compose([\n",
    "    tv.transforms.ToTensor(),\n",
    "    tv.transforms.Normalize(*cifar_stats)\n",
    "])\n",
    "\n",
    "trainset = tv.datasets.CIFAR10(root='./data', train=True, download=True, transform=train_tsfms)\n",
    "testset  = tv.datasets.CIFAR10(root='./data', train=False, download=True, transform=test_tsfms)\n",
    "\n",
    "dls = get_dls(trainset, testset)\n",
    "classes = ('plane', 'car', 'bird', 'cat', 'deer', 'dog', 'frog', 'horse', 'ship', 'truck')"
   ]
  },
  {
   "cell_type": "code",
   "execution_count": 11,
   "metadata": {
    "ExecuteTime": {
     "end_time": "2020-01-06T21:58:56.660578Z",
     "start_time": "2020-01-06T21:58:56.640347Z"
    }
   },
   "outputs": [],
   "source": [
    "# inps, ts = next(iter(dls['train']))\n",
    "# show_batch(inps, labels=ts, classnames=classes)"
   ]
  },
  {
   "cell_type": "code",
   "execution_count": 15,
   "metadata": {
    "ExecuteTime": {
     "end_time": "2020-01-06T23:06:54.141790Z",
     "start_time": "2020-01-06T23:06:53.631418Z"
    }
   },
   "outputs": [
    {
     "name": "stderr",
     "output_type": "stream",
     "text": [
      "[INFO - JLIB_CORE]: 50000 training images.\n",
      "[INFO - JLIB_CORE]: 10000 eval images\n",
      "[INFO - JLIB_CORE]: NETWORK STATS: 75 convs, 24 batchnorms, 7 dense, 6.339M parameters.\n"
     ]
    }
   ],
   "source": [
    "net = MKANet((64,3), 10)\n",
    "model = ClassifierTrainer(dls, net, loss_fn=LabelSmoothingCrossEntropy)"
   ]
  },
  {
   "cell_type": "code",
   "execution_count": 16,
   "metadata": {
    "ExecuteTime": {
     "end_time": "2020-01-06T23:06:54.621551Z",
     "start_time": "2020-01-06T23:06:54.590422Z"
    }
   },
   "outputs": [],
   "source": [
    "# model.find_lr()"
   ]
  },
  {
   "cell_type": "code",
   "execution_count": 17,
   "metadata": {
    "ExecuteTime": {
     "end_time": "2020-01-06T23:23:45.282720Z",
     "start_time": "2020-01-06T23:06:58.007189Z"
    }
   },
   "outputs": [
    {
     "data": {
      "text/html": [
       "<table border=\"1\" class=\"dataframe\">\n",
       "  <thead>\n",
       "    <tr style=\"text-align: left;\">\n",
       "      <th>epoch</th>\n",
       "      <th>train_loss</th>\n",
       "      <th>val_loss</th>\n",
       "      <th>val_acc</th>\n",
       "      <th>val_mcc</th>\n",
       "      <th>time</th>\n",
       "    </tr>\n",
       "  </thead>\n",
       "  <tbody>\n",
       "    <tr>\n",
       "      <td>0</td>\n",
       "      <td>1.43831</td>\n",
       "      <td>1.46371</td>\n",
       "      <td>0.62184</td>\n",
       "      <td>0.58816</td>\n",
       "      <td>0:01:41</td>\n",
       "    </tr>\n",
       "    <tr>\n",
       "      <td>1</td>\n",
       "      <td>1.14595</td>\n",
       "      <td>1.15312</td>\n",
       "      <td>0.73457</td>\n",
       "      <td>0.70837</td>\n",
       "      <td>0:01:41</td>\n",
       "    </tr>\n",
       "    <tr>\n",
       "      <td>2</td>\n",
       "      <td>0.98762</td>\n",
       "      <td>1.05643</td>\n",
       "      <td>0.76058</td>\n",
       "      <td>0.7374</td>\n",
       "      <td>0:01:40</td>\n",
       "    </tr>\n",
       "    <tr>\n",
       "      <td>3</td>\n",
       "      <td>0.83878</td>\n",
       "      <td>1.02934</td>\n",
       "      <td>0.7766</td>\n",
       "      <td>0.7558</td>\n",
       "      <td>0:01:40</td>\n",
       "    </tr>\n",
       "    <tr>\n",
       "      <td>4</td>\n",
       "      <td>0.72631</td>\n",
       "      <td>0.85886</td>\n",
       "      <td>0.85384</td>\n",
       "      <td>0.83884</td>\n",
       "      <td>0:01:40</td>\n",
       "    </tr>\n",
       "    <tr>\n",
       "      <td>5</td>\n",
       "      <td>0.63079</td>\n",
       "      <td>0.78879</td>\n",
       "      <td>0.88014</td>\n",
       "      <td>0.86686</td>\n",
       "      <td>0:01:40</td>\n",
       "    </tr>\n",
       "    <tr>\n",
       "      <td>6</td>\n",
       "      <td>0.56217</td>\n",
       "      <td>0.77286</td>\n",
       "      <td>0.893</td>\n",
       "      <td>0.88112</td>\n",
       "      <td>0:01:40</td>\n",
       "    </tr>\n",
       "    <tr>\n",
       "      <td>7</td>\n",
       "      <td>0.52369</td>\n",
       "      <td>0.7619</td>\n",
       "      <td>0.89676</td>\n",
       "      <td>0.88527</td>\n",
       "      <td>0:01:40</td>\n",
       "    </tr>\n",
       "    <tr>\n",
       "      <td>8</td>\n",
       "      <td>0.50877</td>\n",
       "      <td>0.75974</td>\n",
       "      <td>0.90081</td>\n",
       "      <td>0.88974</td>\n",
       "      <td>0:01:41</td>\n",
       "    </tr>\n",
       "    <tr>\n",
       "      <td>9</td>\n",
       "      <td>0.50522</td>\n",
       "      <td>0.7562</td>\n",
       "      <td>0.9022</td>\n",
       "      <td>0.89127</td>\n",
       "      <td>0:01:40</td>\n",
       "    </tr>\n",
       "  </tbody>\n",
       "</table>"
      ],
      "text/plain": [
       "<IPython.core.display.HTML object>"
      ]
     },
     "metadata": {},
     "output_type": "display_data"
    },
    {
     "name": "stderr",
     "output_type": "stream",
     "text": [
      "[INFO - JLIB_CORE]: Training complete.\n"
     ]
    }
   ],
   "source": [
    "model.fit(10, lr=1e-2)"
   ]
  }
 ],
 "metadata": {
  "kernelspec": {
   "display_name": "Python 3",
   "language": "python",
   "name": "python3"
  },
  "language_info": {
   "codemirror_mode": {
    "name": "ipython",
    "version": 3
   },
   "file_extension": ".py",
   "mimetype": "text/x-python",
   "name": "python",
   "nbconvert_exporter": "python",
   "pygments_lexer": "ipython3",
   "version": "3.8.3"
  }
 },
 "nbformat": 4,
 "nbformat_minor": 4
}
