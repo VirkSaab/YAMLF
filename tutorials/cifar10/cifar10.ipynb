{
 "cells": [
  {
   "cell_type": "markdown",
   "metadata": {},
   "source": [
    "This tutorial explains the pipeline of YAMLF with CIFAR10 dataset. First, let's set the automatic reload for jupyter notebook."
   ]
  },
  {
   "cell_type": "code",
   "execution_count": 1,
   "metadata": {
    "ExecuteTime": {
     "end_time": "2020-06-29T22:36:00.475823Z",
     "start_time": "2020-06-29T22:36:00.465823Z"
    }
   },
   "outputs": [],
   "source": [
    "# To automatically reload the functions\n",
    "%load_ext autoreload\n",
    "%autoreload 2"
   ]
  },
  {
   "cell_type": "markdown",
   "metadata": {},
   "source": [
    "Use `pip install yamlf` to install"
   ]
  },
  {
   "cell_type": "code",
   "execution_count": 10,
   "metadata": {
    "ExecuteTime": {
     "end_time": "2020-06-29T22:36:54.456108Z",
     "start_time": "2020-06-29T22:36:48.591362Z"
    }
   },
   "outputs": [
    {
     "name": "stdout",
     "output_type": "stream",
     "text": [
      "Collecting yamlf\n",
      "  Downloading yamlf-0.1.4.tar.gz (10 kB)\n",
      "Requirement already satisfied, skipping upgrade: torch in /home/virk/anaconda3/envs/pt/lib/python3.8/site-packages (from yamlf) (1.5.0)\n",
      "Requirement already satisfied, skipping upgrade: torchvision in /home/virk/anaconda3/envs/pt/lib/python3.8/site-packages (from yamlf) (0.6.0a0+82fd1c8)\n",
      "Requirement already satisfied, skipping upgrade: numpy in /home/virk/anaconda3/envs/pt/lib/python3.8/site-packages (from yamlf) (1.18.5)\n",
      "Requirement already satisfied, skipping upgrade: albumentations in /home/virk/anaconda3/envs/pt/lib/python3.8/site-packages (from yamlf) (0.4.5)\n",
      "Requirement already satisfied, skipping upgrade: pandas in /home/virk/anaconda3/envs/pt/lib/python3.8/site-packages (from yamlf) (1.0.5)\n",
      "Requirement already satisfied, skipping upgrade: matplotlib in /home/virk/anaconda3/envs/pt/lib/python3.8/site-packages (from yamlf) (3.2.1)\n",
      "Requirement already satisfied, skipping upgrade: scikit-learn in /home/virk/anaconda3/envs/pt/lib/python3.8/site-packages (from yamlf) (0.22.2.post1)\n",
      "Requirement already satisfied, skipping upgrade: fastprogress in /home/virk/anaconda3/envs/pt/lib/python3.8/site-packages (from yamlf) (0.2.3)\n",
      "Requirement already satisfied, skipping upgrade: future in /home/virk/anaconda3/envs/pt/lib/python3.8/site-packages (from torch->yamlf) (0.18.2)\n",
      "Requirement already satisfied, skipping upgrade: pillow>=4.1.1 in /home/virk/anaconda3/envs/pt/lib/python3.8/site-packages (from torchvision->yamlf) (7.1.2)\n",
      "Requirement already satisfied, skipping upgrade: PyYAML in /home/virk/anaconda3/envs/pt/lib/python3.8/site-packages (from albumentations->yamlf) (5.3.1)\n",
      "Requirement already satisfied, skipping upgrade: imgaug<0.2.7,>=0.2.5 in /home/virk/anaconda3/envs/pt/lib/python3.8/site-packages (from albumentations->yamlf) (0.2.6)\n",
      "Requirement already satisfied, skipping upgrade: scipy in /home/virk/anaconda3/envs/pt/lib/python3.8/site-packages (from albumentations->yamlf) (1.4.1)\n",
      "Requirement already satisfied, skipping upgrade: opencv-python-headless>=4.1.1 in /home/virk/anaconda3/envs/pt/lib/python3.8/site-packages (from albumentations->yamlf) (4.2.0.34)\n",
      "Requirement already satisfied, skipping upgrade: python-dateutil>=2.6.1 in /home/virk/anaconda3/envs/pt/lib/python3.8/site-packages (from pandas->yamlf) (2.8.1)\n",
      "Requirement already satisfied, skipping upgrade: pytz>=2017.2 in /home/virk/anaconda3/envs/pt/lib/python3.8/site-packages (from pandas->yamlf) (2020.1)\n",
      "Requirement already satisfied, skipping upgrade: kiwisolver>=1.0.1 in /home/virk/anaconda3/envs/pt/lib/python3.8/site-packages (from matplotlib->yamlf) (1.2.0)\n",
      "Requirement already satisfied, skipping upgrade: cycler>=0.10 in /home/virk/anaconda3/envs/pt/lib/python3.8/site-packages (from matplotlib->yamlf) (0.10.0)\n",
      "Requirement already satisfied, skipping upgrade: pyparsing!=2.0.4,!=2.1.2,!=2.1.6,>=2.0.1 in /home/virk/anaconda3/envs/pt/lib/python3.8/site-packages (from matplotlib->yamlf) (2.4.7)\n",
      "Requirement already satisfied, skipping upgrade: joblib>=0.11 in /home/virk/anaconda3/envs/pt/lib/python3.8/site-packages (from scikit-learn->yamlf) (0.14.1)\n",
      "Requirement already satisfied, skipping upgrade: six in /home/virk/anaconda3/envs/pt/lib/python3.8/site-packages (from imgaug<0.2.7,>=0.2.5->albumentations->yamlf) (1.15.0)\n",
      "Requirement already satisfied, skipping upgrade: scikit-image>=0.11.0 in /home/virk/anaconda3/envs/pt/lib/python3.8/site-packages (from imgaug<0.2.7,>=0.2.5->albumentations->yamlf) (0.17.2)\n",
      "Requirement already satisfied, skipping upgrade: imageio>=2.3.0 in /home/virk/anaconda3/envs/pt/lib/python3.8/site-packages (from scikit-image>=0.11.0->imgaug<0.2.7,>=0.2.5->albumentations->yamlf) (2.8.0)\n",
      "Requirement already satisfied, skipping upgrade: PyWavelets>=1.1.1 in /home/virk/anaconda3/envs/pt/lib/python3.8/site-packages (from scikit-image>=0.11.0->imgaug<0.2.7,>=0.2.5->albumentations->yamlf) (1.1.1)\n",
      "Requirement already satisfied, skipping upgrade: networkx>=2.0 in /home/virk/anaconda3/envs/pt/lib/python3.8/site-packages (from scikit-image>=0.11.0->imgaug<0.2.7,>=0.2.5->albumentations->yamlf) (2.4)\n",
      "Requirement already satisfied, skipping upgrade: tifffile>=2019.7.26 in /home/virk/anaconda3/envs/pt/lib/python3.8/site-packages (from scikit-image>=0.11.0->imgaug<0.2.7,>=0.2.5->albumentations->yamlf) (2020.6.3)\n",
      "Requirement already satisfied, skipping upgrade: decorator>=4.3.0 in /home/virk/anaconda3/envs/pt/lib/python3.8/site-packages (from networkx>=2.0->scikit-image>=0.11.0->imgaug<0.2.7,>=0.2.5->albumentations->yamlf) (4.4.2)\n",
      "Building wheels for collected packages: yamlf\n",
      "  Building wheel for yamlf (setup.py) ... \u001b[?25ldone\n",
      "\u001b[?25h  Created wheel for yamlf: filename=yamlf-0.1.4-py3-none-any.whl size=12042 sha256=bacc89f63282fbe46bd5834ba85c637d382f2050c352135437c9364172f0c7b0\n",
      "  Stored in directory: /home/virk/.cache/pip/wheels/d2/0a/fa/d5e5a5cc8262c9788ece5f64a84cc6251267dcc4d686ba51fb\n",
      "Successfully built yamlf\n",
      "Installing collected packages: yamlf\n",
      "  Attempting uninstall: yamlf\n",
      "    Found existing installation: yamlf 0.1.3\n",
      "    Uninstalling yamlf-0.1.3:\n",
      "      Successfully uninstalled yamlf-0.1.3\n",
      "Successfully installed yamlf-0.1.4\n"
     ]
    }
   ],
   "source": [
    "!pip install yamlf --upgrade"
   ]
  },
  {
   "cell_type": "markdown",
   "metadata": {},
   "source": [
    "# Setting Hyperparameters\n",
    "There are two ways to set hyperparameters:\n",
    " 1. create a python dict:\n",
    " `{batchsize: 64, device: \"cuda\", chkpt_dir: \"chkpts\"}`\n",
    " 2. use default_settings.DefaultSettings class:\n",
    "        from default_settings import DefaultSettings\n",
    "        defs = DefaultSettings.init(\"data\", \"chkpts\")"
   ]
  },
  {
   "cell_type": "code",
   "execution_count": 25,
   "metadata": {
    "ExecuteTime": {
     "end_time": "2020-06-29T22:44:01.999049Z",
     "start_time": "2020-06-29T22:44:01.981260Z"
    }
   },
   "outputs": [
    {
     "data": {
      "text/plain": [
       "{'low_storage': False,\n",
       " 'DN': 'inputs',\n",
       " 'LN': 'targets',\n",
       " 'scpc': None,\n",
       " 'ltoc': None,\n",
       " 'ctol': None,\n",
       " 'datadir': PosixPath('data'),\n",
       " 'chkptdir': PosixPath('chkpts'),\n",
       " 'chkpt_filename': 'chkpt.pt',\n",
       " 'wts_filename': 'wts.pt',\n",
       " 'tbwriter': <torch.utils.tensorboard.writer.SummaryWriter at 0x7f3ac9760370>,\n",
       " 'num_folds': 5,\n",
       " 'batchsize': 64,\n",
       " 'num_workers': 8,\n",
       " 'epochs': 5,\n",
       " 'init_epoch': 0,\n",
       " 'lr': 0.001,\n",
       " 'moms': (0.95, 0.85),\n",
       " 'wd': 0.0,\n",
       " 'dropout': 0.1,\n",
       " 'train_iters': None,\n",
       " 'val_iters': None,\n",
       " 'device': device(type='cuda')}"
      ]
     },
     "execution_count": 25,
     "metadata": {},
     "output_type": "execute_result"
    }
   ],
   "source": [
    "from yamlf.default_settings import DefaultSettings\n",
    "\n",
    "defs = DefaultSettings.init()\n",
    "defs"
   ]
  },
  {
   "cell_type": "markdown",
   "metadata": {},
   "source": [
    "# Load Data\n",
    "Next is data loading class and setting dataloaders. This tutorial uses data loading from torchvision CIFAR10 dataset. So, there is no need to define a dataset class.\n",
    "\n",
    "`yamlf.vision` script contains class and functions for Computer Vision tasks such as Classification, localization, and segmentation.\n",
    "There are two ways to define dataloaders to pass it to trainer:\n",
    " 1. create a dict of dataloaders like\n",
    " `dls = {\n",
    "    \"train\": torch.utils.data.DataLoader(trainset, ...),\n",
    "    \"val\": torch.utils.data.DataLoader(valset, ...),\n",
    "    \"test\": torch.utils.data.DataLoader(testset, ...)\n",
    "    }`\n",
    " 2. use `yamlf.vision.LoadData` class as given below."
   ]
  },
  {
   "cell_type": "code",
   "execution_count": 12,
   "metadata": {
    "ExecuteTime": {
     "end_time": "2020-06-29T22:36:59.303250Z",
     "start_time": "2020-06-29T22:36:59.277006Z"
    }
   },
   "outputs": [],
   "source": [
    "from yamlf.vision import *"
   ]
  },
  {
   "cell_type": "code",
   "execution_count": 13,
   "metadata": {
    "ExecuteTime": {
     "end_time": "2020-06-29T22:37:00.996939Z",
     "start_time": "2020-06-29T22:36:59.485606Z"
    }
   },
   "outputs": [
    {
     "name": "stdout",
     "output_type": "stream",
     "text": [
      "Files already downloaded and verified\n",
      "Files already downloaded and verified\n"
     ]
    }
   ],
   "source": [
    "train_tsfms = tv.transforms.Compose([\n",
    "    tv.transforms.ToTensor(),\n",
    "])\n",
    "test_tsfms  = tv.transforms.Compose([\n",
    "    tv.transforms.ToTensor(),\n",
    "])\n",
    "\n",
    "trainset = tv.datasets.CIFAR10(root='./data', train=True, download=True, transform=train_tsfms)\n",
    "testset  = tv.datasets.CIFAR10(root='./data', train=False, download=True, transform=test_tsfms)\n",
    "classes = ('plane', 'car', 'bird', 'cat', 'deer', 'dog', 'frog', 'horse', 'ship', 'truck')\n",
    "\n",
    "defs[\"num_cls\"] = len(classes)"
   ]
  },
  {
   "cell_type": "code",
   "execution_count": 14,
   "metadata": {
    "ExecuteTime": {
     "end_time": "2020-06-29T22:37:01.110906Z",
     "start_time": "2020-06-29T22:37:00.998694Z"
    }
   },
   "outputs": [
    {
     "data": {
      "text/plain": [
       "yamlf.vision.LoadData class\n",
       "trainset -> num samples: 50000, num batches: 782\n",
       "valset -> num samples: 10000, num batches: 157"
      ]
     },
     "execution_count": 14,
     "metadata": {},
     "output_type": "execute_result"
    }
   ],
   "source": [
    "# defs are defaults settings dict that contains batchsize,\n",
    "# num_workers, etc. parameters\n",
    "dls = LoadData(trainset, testset, defs=defs)\n",
    "dls"
   ]
  },
  {
   "cell_type": "markdown",
   "metadata": {},
   "source": [
    "# Model or Network\n",
    "define a model to train.\n",
    "\n",
    "`yamlf.utils.net_stats` is a useful function for brief network information"
   ]
  },
  {
   "cell_type": "code",
   "execution_count": 15,
   "metadata": {
    "ExecuteTime": {
     "end_time": "2020-06-29T22:37:01.522459Z",
     "start_time": "2020-06-29T22:37:01.494084Z"
    }
   },
   "outputs": [],
   "source": [
    "from yamlf.utils import net_stats"
   ]
  },
  {
   "cell_type": "code",
   "execution_count": 16,
   "metadata": {
    "ExecuteTime": {
     "end_time": "2020-06-29T22:37:01.979129Z",
     "start_time": "2020-06-29T22:37:01.754454Z"
    }
   },
   "outputs": [
    {
     "name": "stdout",
     "output_type": "stream",
     "text": [
      "NETWORK STATS:\n",
      "20 convs\n",
      "20 batchnorms\n",
      "1 dense\n",
      "# parameters: 11.182M\n"
     ]
    }
   ],
   "source": [
    "# The convention for model is net in this framework. You can also use model if you like.\n",
    "net = tv.models.resnet18(num_classes=10)\n",
    "net_stats(net)"
   ]
  },
  {
   "cell_type": "markdown",
   "metadata": {},
   "source": [
    "# Training and validation\n",
    "The *Trainer* class is inspired by fast.ai.\n",
    "\n",
    "Just import the Trainer and provide data, network, loss. Some values such as optimizer and learning rate scheduler has default values."
   ]
  },
  {
   "cell_type": "code",
   "execution_count": 17,
   "metadata": {
    "ExecuteTime": {
     "end_time": "2020-06-29T22:37:02.801548Z",
     "start_time": "2020-06-29T22:37:02.625555Z"
    }
   },
   "outputs": [
    {
     "name": "stdout",
     "output_type": "stream",
     "text": [
      "Apex recommended for faster mixed precision training: https://github.com/NVIDIA/apex\n"
     ]
    }
   ],
   "source": [
    "from yamlf.nn_trainer import Trainer\n",
    "import torch.nn as nn"
   ]
  },
  {
   "cell_type": "code",
   "execution_count": 18,
   "metadata": {
    "ExecuteTime": {
     "end_time": "2020-06-29T22:37:05.178945Z",
     "start_time": "2020-06-29T22:37:03.772397Z"
    }
   },
   "outputs": [],
   "source": [
    "model = Trainer(dls, net, nn.CrossEntropyLoss(), metrics='acc')"
   ]
  },
  {
   "cell_type": "markdown",
   "metadata": {},
   "source": [
    "After initializing the Trainer class, we can check if everything works fine by training for few iterations than running the whole epoch of data. It is useful to check if code is working for full training. This can be achieve by setting `model.fit(..., train_iters=5, val_iters=5)` as shown below:"
   ]
  },
  {
   "cell_type": "code",
   "execution_count": 19,
   "metadata": {
    "ExecuteTime": {
     "end_time": "2020-06-29T22:37:08.513458Z",
     "start_time": "2020-06-29T22:37:06.426525Z"
    }
   },
   "outputs": [
    {
     "data": {
      "text/html": [
       "<table border=\"1\" class=\"dataframe\">\n",
       "  <thead>\n",
       "    <tr style=\"text-align: left;\">\n",
       "      <th>epoch</th>\n",
       "      <th>train_loss</th>\n",
       "      <th>train_acc</th>\n",
       "      <th>val_loss</th>\n",
       "      <th>val_acc</th>\n",
       "      <th>time</th>\n",
       "    </tr>\n",
       "  </thead>\n",
       "  <tbody>\n",
       "    <tr>\n",
       "      <td>0</td>\n",
       "      <td>2.50695</td>\n",
       "      <td>0.09375</td>\n",
       "      <td>2.32304</td>\n",
       "      <td>0.05625</td>\n",
       "      <td>0.9179391860961914 secs</td>\n",
       "    </tr>\n",
       "    <tr>\n",
       "      <td>1</td>\n",
       "      <td>2.4672</td>\n",
       "      <td>0.125</td>\n",
       "      <td>2.34151</td>\n",
       "      <td>0.05625</td>\n",
       "      <td>0.588057279586792 secs</td>\n",
       "    </tr>\n",
       "  </tbody>\n",
       "</table>"
      ],
      "text/plain": [
       "<IPython.core.display.HTML object>"
      ]
     },
     "metadata": {},
     "output_type": "display_data"
    }
   ],
   "source": [
    "model.fit(2, 1e-3, train_iters=5, val_iters=5)"
   ]
  },
  {
   "cell_type": "markdown",
   "metadata": {},
   "source": [
    "After that, we can run full training as:"
   ]
  },
  {
   "cell_type": "code",
   "execution_count": 20,
   "metadata": {
    "ExecuteTime": {
     "end_time": "2020-06-29T22:40:55.576133Z",
     "start_time": "2020-06-29T22:37:11.050300Z"
    }
   },
   "outputs": [
    {
     "data": {
      "text/html": [
       "<table border=\"1\" class=\"dataframe\">\n",
       "  <thead>\n",
       "    <tr style=\"text-align: left;\">\n",
       "      <th>epoch</th>\n",
       "      <th>train_loss</th>\n",
       "      <th>train_acc</th>\n",
       "      <th>val_loss</th>\n",
       "      <th>val_acc</th>\n",
       "      <th>time</th>\n",
       "    </tr>\n",
       "  </thead>\n",
       "  <tbody>\n",
       "    <tr>\n",
       "      <td>0</td>\n",
       "      <td>1.58919</td>\n",
       "      <td>0.42913</td>\n",
       "      <td>1.73872</td>\n",
       "      <td>0.3964</td>\n",
       "      <td>0:00:45</td>\n",
       "    </tr>\n",
       "    <tr>\n",
       "      <td>1</td>\n",
       "      <td>1.15279</td>\n",
       "      <td>0.59407</td>\n",
       "      <td>1.27447</td>\n",
       "      <td>0.57046</td>\n",
       "      <td>0:00:45</td>\n",
       "    </tr>\n",
       "    <tr>\n",
       "      <td>2</td>\n",
       "      <td>0.86077</td>\n",
       "      <td>0.69901</td>\n",
       "      <td>0.86003</td>\n",
       "      <td>0.70253</td>\n",
       "      <td>0:00:45</td>\n",
       "    </tr>\n",
       "    <tr>\n",
       "      <td>3</td>\n",
       "      <td>0.61575</td>\n",
       "      <td>0.78517</td>\n",
       "      <td>0.71177</td>\n",
       "      <td>0.75836</td>\n",
       "      <td>0:00:45</td>\n",
       "    </tr>\n",
       "    <tr>\n",
       "      <td>4</td>\n",
       "      <td>0.41157</td>\n",
       "      <td>0.85556</td>\n",
       "      <td>0.65688</td>\n",
       "      <td>0.78125</td>\n",
       "      <td>0:00:42</td>\n",
       "    </tr>\n",
       "  </tbody>\n",
       "</table>"
      ],
      "text/plain": [
       "<IPython.core.display.HTML object>"
      ]
     },
     "metadata": {},
     "output_type": "display_data"
    }
   ],
   "source": [
    "model.fit(epochs=5, lr=1e-3)"
   ]
  },
  {
   "cell_type": "markdown",
   "metadata": {},
   "source": [
    "If low_stroage is not True in default settings dict then a checkpoint folder will be created which contains tensorboard logs, last epoch training checkpoint.\n",
    "Also, model weights can be saved manually by calling `model.save_weights()`. Similarly, `model.load_weights()` can be used to load model weights"
   ]
  },
  {
   "cell_type": "code",
   "execution_count": 21,
   "metadata": {
    "ExecuteTime": {
     "end_time": "2020-06-29T22:40:55.679682Z",
     "start_time": "2020-06-29T22:40:55.578562Z"
    }
   },
   "outputs": [],
   "source": [
    "model.save_weights()"
   ]
  },
  {
   "cell_type": "code",
   "execution_count": 22,
   "metadata": {
    "ExecuteTime": {
     "end_time": "2020-06-29T22:40:57.839485Z",
     "start_time": "2020-06-29T22:40:55.681150Z"
    }
   },
   "outputs": [
    {
     "data": {
      "text/html": [
       "\n",
       "    <div>\n",
       "        <style>\n",
       "            /* Turns off some styling */\n",
       "            progress {\n",
       "                /* gets rid of default border in Firefox and Opera. */\n",
       "                border: none;\n",
       "                /* Needs to be in here for Safari polyfill so background images work as expected. */\n",
       "                background-size: auto;\n",
       "            }\n",
       "            .progress-bar-interrupted, .progress-bar-interrupted::-webkit-progress-bar {\n",
       "                background: #F44336;\n",
       "            }\n",
       "        </style>\n",
       "      <progress value='157' class='' max='157' style='width:300px; height:20px; vertical-align: middle;'></progress>\n",
       "      100.00% [157/157 00:01<00:00]\n",
       "    </div>\n",
       "    "
      ],
      "text/plain": [
       "<IPython.core.display.HTML object>"
      ]
     },
     "metadata": {},
     "output_type": "display_data"
    },
    {
     "data": {
      "text/plain": [
       "{'acc': 0.10101512738853503}"
      ]
     },
     "execution_count": 22,
     "metadata": {},
     "output_type": "execute_result"
    }
   ],
   "source": [
    "# Start new training and check weights\n",
    "net = tv.models.resnet18(num_classes=10)\n",
    "model = Trainer(dls, net, nn.CrossEntropyLoss(), metrics='acc')\n",
    "model.test_dl = model.val_dl\n",
    "model.test()"
   ]
  },
  {
   "cell_type": "code",
   "execution_count": 23,
   "metadata": {
    "ExecuteTime": {
     "end_time": "2020-06-29T22:40:59.862853Z",
     "start_time": "2020-06-29T22:40:57.840838Z"
    }
   },
   "outputs": [
    {
     "data": {
      "text/html": [
       "\n",
       "    <div>\n",
       "        <style>\n",
       "            /* Turns off some styling */\n",
       "            progress {\n",
       "                /* gets rid of default border in Firefox and Opera. */\n",
       "                border: none;\n",
       "                /* Needs to be in here for Safari polyfill so background images work as expected. */\n",
       "                background-size: auto;\n",
       "            }\n",
       "            .progress-bar-interrupted, .progress-bar-interrupted::-webkit-progress-bar {\n",
       "                background: #F44336;\n",
       "            }\n",
       "        </style>\n",
       "      <progress value='157' class='' max='157' style='width:300px; height:20px; vertical-align: middle;'></progress>\n",
       "      100.00% [157/157 00:01<00:00]\n",
       "    </div>\n",
       "    "
      ],
      "text/plain": [
       "<IPython.core.display.HTML object>"
      ]
     },
     "metadata": {},
     "output_type": "display_data"
    },
    {
     "data": {
      "text/plain": [
       "{'acc': 0.78125}"
      ]
     },
     "execution_count": 23,
     "metadata": {},
     "output_type": "execute_result"
    }
   ],
   "source": [
    "# Load saved weights and test\n",
    "model.load_weights()\n",
    "model.test_dl = model.val_dl\n",
    "model.test()"
   ]
  },
  {
   "cell_type": "markdown",
   "metadata": {},
   "source": [
    "# Training visualizations\n",
    "Loss, metrics, and learning rate during training is accessable using tensorboard as follows"
   ]
  },
  {
   "cell_type": "code",
   "execution_count": 33,
   "metadata": {
    "ExecuteTime": {
     "end_time": "2020-06-29T22:52:09.969401Z",
     "start_time": "2020-06-29T22:52:09.947461Z"
    }
   },
   "outputs": [
    {
     "data": {
      "text/plain": [
       "PosixPath('chkpts/tblogs/30Jun2020-04:14:01')"
      ]
     },
     "execution_count": 33,
     "metadata": {},
     "output_type": "execute_result"
    }
   ],
   "source": [
    "defs[\"tbwriter\"].log_dir"
   ]
  },
  {
   "cell_type": "code",
   "execution_count": 36,
   "metadata": {
    "ExecuteTime": {
     "end_time": "2020-06-29T22:57:33.730340Z",
     "start_time": "2020-06-29T22:57:09.448143Z"
    }
   },
   "outputs": [
    {
     "name": "stdout",
     "output_type": "stream",
     "text": [
      "TensorFlow installation not found - running with reduced feature set.\n",
      "Serving TensorBoard on localhost; to expose to the network, use a proxy or pass --bind_all\n",
      "TensorBoard 2.2.1 at http://localhost:6006/ (Press CTRL+C to quit)\n",
      "^C\n"
     ]
    }
   ],
   "source": [
    "# open the given link (http://localhost:6006/) in browser\n",
    "!tensorboard --logdir=chkpts/tblogs"
   ]
  }
 ],
 "metadata": {
  "kernelspec": {
   "display_name": "Python 3",
   "language": "python",
   "name": "python3"
  },
  "language_info": {
   "codemirror_mode": {
    "name": "ipython",
    "version": 3
   },
   "file_extension": ".py",
   "mimetype": "text/x-python",
   "name": "python",
   "nbconvert_exporter": "python",
   "pygments_lexer": "ipython3",
   "version": "3.7.7"
  }
 },
 "nbformat": 4,
 "nbformat_minor": 4
}
