{
 "cells": [
  {
   "cell_type": "markdown",
   "metadata": {},
   "source": [
    "This tutorial explains the pipeline of YAMLF with CIFAR10 dataset. First, let's set the automatic reload for jupyter notebook."
   ]
  },
  {
   "cell_type": "code",
   "execution_count": 1,
   "metadata": {
    "ExecuteTime": {
     "end_time": "2020-06-29T22:15:30.849518Z",
     "start_time": "2020-06-29T22:15:30.839821Z"
    }
   },
   "outputs": [],
   "source": [
    "# To automatically reload the functions\n",
    "%load_ext autoreload\n",
    "%autoreload 2"
   ]
  },
  {
   "cell_type": "markdown",
   "metadata": {},
   "source": [
    "Use `pip install yamlf` to install"
   ]
  },
  {
   "cell_type": "code",
   "execution_count": 3,
   "metadata": {
    "ExecuteTime": {
     "end_time": "2020-06-29T22:16:33.304824Z",
     "start_time": "2020-06-29T22:16:33.292618Z"
    }
   },
   "outputs": [],
   "source": [
    "!pip install yamlf"
   ]
  },
  {
   "cell_type": "markdown",
   "metadata": {},
   "source": [
    "# Setting Hyperparameters\n",
    "There are two ways to set hyperparameters:\n",
    " 1. create a python dict:\n",
    " `{batchsize: 64, device: \"cuda\", chkpt_dir: \"chkpts\"}`\n",
    " 2. use default_settings.DefaultSettings class:\n",
    "        from default_settings import DefaultSettings\n",
    "        defs = DefaultSettings.init(\"data\", \"chkpts\")"
   ]
  },
  {
   "cell_type": "code",
   "execution_count": 5,
   "metadata": {
    "ExecuteTime": {
     "end_time": "2020-06-29T22:16:49.086769Z",
     "start_time": "2020-06-29T22:16:48.692332Z"
    }
   },
   "outputs": [
    {
     "data": {
      "text/plain": [
       "{'low_storage': False,\n",
       " 'DN': 'inputs',\n",
       " 'LN': 'targets',\n",
       " 'scpc': None,\n",
       " 'ltoc': None,\n",
       " 'ctol': None,\n",
       " 'datadir': PosixPath('data'),\n",
       " 'chkptdir': PosixPath('chkpts'),\n",
       " 'chkpt_filename': 'chkpt.pt',\n",
       " 'wts_filename': 'wts.pt',\n",
       " 'tbwriter': <torch.utils.tensorboard.writer.SummaryWriter at 0x7fbbd4649160>,\n",
       " 'num_folds': 5,\n",
       " 'batchsize': 64,\n",
       " 'num_workers': 8,\n",
       " 'epochs': 5,\n",
       " 'init_epoch': 0,\n",
       " 'lr': 0.001,\n",
       " 'moms': (0.95, 0.85),\n",
       " 'wd': 0.0,\n",
       " 'dropout': 0.1,\n",
       " 'train_iters': None,\n",
       " 'val_iters': None,\n",
       " 'device': device(type='cuda')}"
      ]
     },
     "execution_count": 5,
     "metadata": {},
     "output_type": "execute_result"
    }
   ],
   "source": [
    "from yamlf.default_settings import DefaultSettings\n",
    "\n",
    "defs = DefaultSettings.init()\n",
    "defs"
   ]
  },
  {
   "cell_type": "markdown",
   "metadata": {},
   "source": [
    "# Load Data\n",
    "Next is data loading class and setting dataloaders. This tutorial uses data loading from torchvision CIFAR10 dataset. So, there is no need to define a dataset class.\n",
    "\n",
    "`yamlf.vision` script contains class and functions for Computer Vision tasks such as Classification, localization, and segmentation.\n",
    "There are two ways to define dataloaders to pass it to trainer:\n",
    " 1. create a dict of dataloaders like\n",
    " `dls = {\n",
    "    \"train\": torch.utils.data.DataLoader(trainset, ...),\n",
    "    \"val\": torch.utils.data.DataLoader(valset, ...),\n",
    "    \"test\": torch.utils.data.DataLoader(testset, ...)\n",
    "    }`\n",
    " 2. use `yamlf.vision.LoadData` class as given below."
   ]
  },
  {
   "cell_type": "code",
   "execution_count": 6,
   "metadata": {
    "ExecuteTime": {
     "end_time": "2020-06-29T22:16:56.924086Z",
     "start_time": "2020-06-29T22:16:56.229386Z"
    }
   },
   "outputs": [],
   "source": [
    "from yamlf.vision import *"
   ]
  },
  {
   "cell_type": "code",
   "execution_count": 7,
   "metadata": {
    "ExecuteTime": {
     "end_time": "2020-06-29T22:16:59.013612Z",
     "start_time": "2020-06-29T22:16:57.574403Z"
    }
   },
   "outputs": [
    {
     "name": "stdout",
     "output_type": "stream",
     "text": [
      "Files already downloaded and verified\n",
      "Files already downloaded and verified\n"
     ]
    }
   ],
   "source": [
    "train_tsfms = tv.transforms.Compose([\n",
    "    tv.transforms.ToTensor(),\n",
    "])\n",
    "test_tsfms  = tv.transforms.Compose([\n",
    "    tv.transforms.ToTensor(),\n",
    "])\n",
    "\n",
    "trainset = tv.datasets.CIFAR10(root='./data', train=True, download=True, transform=train_tsfms)\n",
    "testset  = tv.datasets.CIFAR10(root='./data', train=False, download=True, transform=test_tsfms)\n",
    "classes = ('plane', 'car', 'bird', 'cat', 'deer', 'dog', 'frog', 'horse', 'ship', 'truck')\n",
    "\n",
    "defs[\"num_cls\"] = len(classes)"
   ]
  },
  {
   "cell_type": "code",
   "execution_count": 8,
   "metadata": {
    "ExecuteTime": {
     "end_time": "2020-06-29T22:16:59.536557Z",
     "start_time": "2020-06-29T22:16:59.413753Z"
    }
   },
   "outputs": [
    {
     "data": {
      "text/plain": [
       "yamlf.vision.LoadData class\n",
       "trainset -> num samples: 50000, num batches: 782\n",
       "valset -> num samples: 10000, num batches: 157"
      ]
     },
     "execution_count": 8,
     "metadata": {},
     "output_type": "execute_result"
    }
   ],
   "source": [
    "# defs are defaults settings dict that contains batchsize,\n",
    "# num_workers, etc. parameters\n",
    "dls = LoadData(trainset, testset, defs=defs)\n",
    "dls"
   ]
  },
  {
   "cell_type": "markdown",
   "metadata": {},
   "source": [
    "# Model or Network\n",
    "define a model to train.\n",
    "\n",
    "`yamlf.utils.net_stats` is a useful function for brief network information"
   ]
  },
  {
   "cell_type": "code",
   "execution_count": 9,
   "metadata": {
    "ExecuteTime": {
     "end_time": "2020-06-29T22:17:05.889136Z",
     "start_time": "2020-06-29T22:17:05.869537Z"
    }
   },
   "outputs": [],
   "source": [
    "from yamlf.utils import net_stats"
   ]
  },
  {
   "cell_type": "code",
   "execution_count": 10,
   "metadata": {
    "ExecuteTime": {
     "end_time": "2020-06-29T22:17:06.678837Z",
     "start_time": "2020-06-29T22:17:06.485941Z"
    }
   },
   "outputs": [
    {
     "name": "stdout",
     "output_type": "stream",
     "text": [
      "NETWORK STATS:\n",
      "20 convs\n",
      "20 batchnorms\n",
      "1 dense\n",
      "# parameters: 11.182M\n"
     ]
    }
   ],
   "source": [
    "# The convention for model is net in this framework. You can also use model if you like.\n",
    "net = tv.models.resnet18(num_classes=10)\n",
    "net_stats(net)"
   ]
  },
  {
   "cell_type": "markdown",
   "metadata": {},
   "source": [
    "# Training and validation\n",
    "The *Trainer* class is inspired by fast.ai.\n",
    "\n",
    "Just import the Trainer and provide data, network, loss. Some values such as optimizer and learning rate scheduler has default values."
   ]
  },
  {
   "cell_type": "code",
   "execution_count": 9,
   "metadata": {
    "ExecuteTime": {
     "end_time": "2020-06-29T21:14:43.086987Z",
     "start_time": "2020-06-29T21:14:42.888424Z"
    }
   },
   "outputs": [
    {
     "name": "stdout",
     "output_type": "stream",
     "text": [
      "Apex recommended for faster mixed precision training: https://github.com/NVIDIA/apex\n"
     ]
    }
   ],
   "source": [
    "from nn_trainer import Trainer\n",
    "import torch.nn as nn"
   ]
  },
  {
   "cell_type": "code",
   "execution_count": 10,
   "metadata": {
    "ExecuteTime": {
     "end_time": "2020-06-29T21:14:44.479317Z",
     "start_time": "2020-06-29T21:14:43.088309Z"
    }
   },
   "outputs": [],
   "source": [
    "model = Trainer(dls, net, nn.CrossEntropyLoss(), metrics='acc')"
   ]
  },
  {
   "cell_type": "markdown",
   "metadata": {},
   "source": [
    "After initializing the Trainer class, we can check if everything works fine by training for few iterations than running the whole epoch of data. It is useful to check if code is working for full training. This can be achieve by setting `model.fit(..., train_iters=5, val_iters=5)` as shown below:"
   ]
  },
  {
   "cell_type": "code",
   "execution_count": 11,
   "metadata": {
    "ExecuteTime": {
     "end_time": "2020-06-29T21:14:46.438650Z",
     "start_time": "2020-06-29T21:14:44.480447Z"
    }
   },
   "outputs": [
    {
     "data": {
      "text/html": [
       "<table border=\"1\" class=\"dataframe\">\n",
       "  <thead>\n",
       "    <tr style=\"text-align: left;\">\n",
       "      <th>epoch</th>\n",
       "      <th>train_loss</th>\n",
       "      <th>train_acc</th>\n",
       "      <th>val_loss</th>\n",
       "      <th>val_acc</th>\n",
       "      <th>time</th>\n",
       "    </tr>\n",
       "  </thead>\n",
       "  <tbody>\n",
       "    <tr>\n",
       "      <td>0</td>\n",
       "      <td>2.5519</td>\n",
       "      <td>0.1125</td>\n",
       "      <td>2.31062</td>\n",
       "      <td>0.12188</td>\n",
       "      <td>0.9567990303039551 secs</td>\n",
       "    </tr>\n",
       "    <tr>\n",
       "      <td>1</td>\n",
       "      <td>2.41592</td>\n",
       "      <td>0.15</td>\n",
       "      <td>2.32917</td>\n",
       "      <td>0.10938</td>\n",
       "      <td>0.6513710021972656 secs</td>\n",
       "    </tr>\n",
       "  </tbody>\n",
       "</table>"
      ],
      "text/plain": [
       "<IPython.core.display.HTML object>"
      ]
     },
     "metadata": {},
     "output_type": "display_data"
    }
   ],
   "source": [
    "model.fit(2, 1e-3, train_iters=5, val_iters=5)"
   ]
  },
  {
   "cell_type": "markdown",
   "metadata": {},
   "source": [
    "After that, we can run full training as:"
   ]
  },
  {
   "cell_type": "code",
   "execution_count": 12,
   "metadata": {
    "ExecuteTime": {
     "end_time": "2020-06-29T21:18:35.419912Z",
     "start_time": "2020-06-29T21:14:46.439978Z"
    }
   },
   "outputs": [
    {
     "data": {
      "text/html": [
       "<table border=\"1\" class=\"dataframe\">\n",
       "  <thead>\n",
       "    <tr style=\"text-align: left;\">\n",
       "      <th>epoch</th>\n",
       "      <th>train_loss</th>\n",
       "      <th>train_acc</th>\n",
       "      <th>val_loss</th>\n",
       "      <th>val_acc</th>\n",
       "      <th>time</th>\n",
       "    </tr>\n",
       "  </thead>\n",
       "  <tbody>\n",
       "    <tr>\n",
       "      <td>0</td>\n",
       "      <td>1.59775</td>\n",
       "      <td>0.42601</td>\n",
       "      <td>2.33917</td>\n",
       "      <td>0.36286</td>\n",
       "      <td>0:00:45</td>\n",
       "    </tr>\n",
       "    <tr>\n",
       "      <td>1</td>\n",
       "      <td>1.15548</td>\n",
       "      <td>0.59389</td>\n",
       "      <td>1.20454</td>\n",
       "      <td>0.59524</td>\n",
       "      <td>0:00:45</td>\n",
       "    </tr>\n",
       "    <tr>\n",
       "      <td>2</td>\n",
       "      <td>0.86777</td>\n",
       "      <td>0.69905</td>\n",
       "      <td>0.9799</td>\n",
       "      <td>0.67396</td>\n",
       "      <td>0:00:46</td>\n",
       "    </tr>\n",
       "    <tr>\n",
       "      <td>3</td>\n",
       "      <td>0.61903</td>\n",
       "      <td>0.78533</td>\n",
       "      <td>0.71469</td>\n",
       "      <td>0.75448</td>\n",
       "      <td>0:00:46</td>\n",
       "    </tr>\n",
       "    <tr>\n",
       "      <td>4</td>\n",
       "      <td>0.41396</td>\n",
       "      <td>0.85624</td>\n",
       "      <td>0.67143</td>\n",
       "      <td>0.77488</td>\n",
       "      <td>0:00:46</td>\n",
       "    </tr>\n",
       "  </tbody>\n",
       "</table>"
      ],
      "text/plain": [
       "<IPython.core.display.HTML object>"
      ]
     },
     "metadata": {},
     "output_type": "display_data"
    }
   ],
   "source": [
    "model.fit(epochs=5, lr=1e-3)"
   ]
  },
  {
   "cell_type": "markdown",
   "metadata": {},
   "source": [
    "If low_stroage is not True in default settings dict then a checkpoint folder will be created which contains tensorboard logs, last epoch training checkpoint.\n",
    "Also, model weights can be saved manually by calling `model.save_weights()`. Similarly, `model.load_weights()` can be used to load model weights"
   ]
  },
  {
   "cell_type": "code",
   "execution_count": 13,
   "metadata": {
    "ExecuteTime": {
     "end_time": "2020-06-29T21:19:45.856993Z",
     "start_time": "2020-06-29T21:19:45.770380Z"
    }
   },
   "outputs": [],
   "source": [
    "model.save_weights()"
   ]
  },
  {
   "cell_type": "code",
   "execution_count": 21,
   "metadata": {
    "ExecuteTime": {
     "end_time": "2020-06-29T21:28:03.598186Z",
     "start_time": "2020-06-29T21:28:01.293486Z"
    }
   },
   "outputs": [
    {
     "data": {
      "text/html": [
       "\n",
       "    <div>\n",
       "        <style>\n",
       "            /* Turns off some styling */\n",
       "            progress {\n",
       "                /* gets rid of default border in Firefox and Opera. */\n",
       "                border: none;\n",
       "                /* Needs to be in here for Safari polyfill so background images work as expected. */\n",
       "                background-size: auto;\n",
       "            }\n",
       "            .progress-bar-interrupted, .progress-bar-interrupted::-webkit-progress-bar {\n",
       "                background: #F44336;\n",
       "            }\n",
       "        </style>\n",
       "      <progress value='157' class='' max='157' style='width:300px; height:20px; vertical-align: middle;'></progress>\n",
       "      100.00% [157/157 00:02<00:00]\n",
       "    </div>\n",
       "    "
      ],
      "text/plain": [
       "<IPython.core.display.HTML object>"
      ]
     },
     "metadata": {},
     "output_type": "display_data"
    },
    {
     "data": {
      "text/plain": [
       "{'acc': 0.10041799363057324}"
      ]
     },
     "execution_count": 21,
     "metadata": {},
     "output_type": "execute_result"
    }
   ],
   "source": [
    "# Start new training and check weights\n",
    "net = tv.models.resnet18(num_classes=10)\n",
    "model = Trainer(dls, net, nn.CrossEntropyLoss(), metrics='acc')\n",
    "model.test_dl = model.val_dl\n",
    "model.test()"
   ]
  },
  {
   "cell_type": "code",
   "execution_count": 22,
   "metadata": {
    "ExecuteTime": {
     "end_time": "2020-06-29T21:28:27.135065Z",
     "start_time": "2020-06-29T21:28:24.934133Z"
    }
   },
   "outputs": [
    {
     "data": {
      "text/html": [
       "\n",
       "    <div>\n",
       "        <style>\n",
       "            /* Turns off some styling */\n",
       "            progress {\n",
       "                /* gets rid of default border in Firefox and Opera. */\n",
       "                border: none;\n",
       "                /* Needs to be in here for Safari polyfill so background images work as expected. */\n",
       "                background-size: auto;\n",
       "            }\n",
       "            .progress-bar-interrupted, .progress-bar-interrupted::-webkit-progress-bar {\n",
       "                background: #F44336;\n",
       "            }\n",
       "        </style>\n",
       "      <progress value='157' class='' max='157' style='width:300px; height:20px; vertical-align: middle;'></progress>\n",
       "      100.00% [157/157 00:02<00:00]\n",
       "    </div>\n",
       "    "
      ],
      "text/plain": [
       "<IPython.core.display.HTML object>"
      ]
     },
     "metadata": {},
     "output_type": "display_data"
    },
    {
     "data": {
      "text/plain": [
       "{'acc': 0.7748805732484076}"
      ]
     },
     "execution_count": 22,
     "metadata": {},
     "output_type": "execute_result"
    }
   ],
   "source": [
    "# Load saved weights and test\n",
    "model.load_weights()\n",
    "model.test_dl = model.val_dl\n",
    "model.test()"
   ]
  },
  {
   "cell_type": "code",
   "execution_count": null,
   "metadata": {},
   "outputs": [],
   "source": []
  }
 ],
 "metadata": {
  "kernelspec": {
   "display_name": "Python 3",
   "language": "python",
   "name": "python3"
  },
  "language_info": {
   "codemirror_mode": {
    "name": "ipython",
    "version": 3
   },
   "file_extension": ".py",
   "mimetype": "text/x-python",
   "name": "python",
   "nbconvert_exporter": "python",
   "pygments_lexer": "ipython3",
   "version": "3.8.3"
  }
 },
 "nbformat": 4,
 "nbformat_minor": 4
}
