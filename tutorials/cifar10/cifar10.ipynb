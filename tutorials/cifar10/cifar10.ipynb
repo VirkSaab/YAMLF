{
 "cells": [
  {
   "cell_type": "markdown",
   "metadata": {},
   "source": [
    "This tutorial explains the pipeline of YAMLF with CIFAR10 dataset. First, let's set the automatic reload for jupyter notebook."
   ]
  },
  {
   "cell_type": "code",
   "execution_count": 2,
   "metadata": {
    "ExecuteTime": {
     "end_time": "2020-06-29T22:31:07.164974Z",
     "start_time": "2020-06-29T22:31:07.152729Z"
    }
   },
   "outputs": [],
   "source": [
    "# To automatically reload the functions\n",
    "%load_ext autoreload\n",
    "%autoreload 2"
   ]
  },
  {
   "cell_type": "markdown",
   "metadata": {},
   "source": [
    "Use `pip install yamlf` to install"
   ]
  },
  {
   "cell_type": "code",
   "execution_count": 3,
   "metadata": {
    "ExecuteTime": {
     "end_time": "2020-06-29T22:31:07.935818Z",
     "start_time": "2020-06-29T22:31:07.798761Z"
    }
   },
   "outputs": [
    {
     "name": "stdout",
     "output_type": "stream",
     "text": [
      "dev  dist  LICENSE  MANIFEST  README.md  setup.cfg  setup.py  tutorials  yamlf\r\n"
     ]
    }
   ],
   "source": [
    "!ls ../../"
   ]
  },
  {
   "cell_type": "code",
   "execution_count": 4,
   "metadata": {
    "ExecuteTime": {
     "end_time": "2020-06-29T22:31:07.952883Z",
     "start_time": "2020-06-29T22:31:07.940347Z"
    }
   },
   "outputs": [],
   "source": [
    "import sys\n",
    "sys.path.append('../../')"
   ]
  },
  {
   "cell_type": "markdown",
   "metadata": {},
   "source": [
    "# Setting Hyperparameters\n",
    "There are two ways to set hyperparameters:\n",
    " 1. create a python dict:\n",
    " `{batchsize: 64, device: \"cuda\", chkpt_dir: \"chkpts\"}`\n",
    " 2. use default_settings.DefaultSettings class:\n",
    "        from default_settings import DefaultSettings\n",
    "        defs = DefaultSettings.init(\"data\", \"chkpts\")"
   ]
  },
  {
   "cell_type": "code",
   "execution_count": 5,
   "metadata": {
    "ExecuteTime": {
     "end_time": "2020-06-29T22:31:09.108231Z",
     "start_time": "2020-06-29T22:31:08.672471Z"
    }
   },
   "outputs": [
    {
     "data": {
      "text/plain": [
       "{'low_storage': False,\n",
       " 'DN': 'inputs',\n",
       " 'LN': 'targets',\n",
       " 'scpc': None,\n",
       " 'ltoc': None,\n",
       " 'ctol': None,\n",
       " 'datadir': PosixPath('data'),\n",
       " 'chkptdir': PosixPath('chkpts'),\n",
       " 'chkpt_filename': 'chkpt.pt',\n",
       " 'wts_filename': 'wts.pt',\n",
       " 'tbwriter': <torch.utils.tensorboard.writer.SummaryWriter at 0x7f0e04528ca0>,\n",
       " 'num_folds': 5,\n",
       " 'batchsize': 64,\n",
       " 'num_workers': 8,\n",
       " 'epochs': 5,\n",
       " 'init_epoch': 0,\n",
       " 'lr': 0.001,\n",
       " 'moms': (0.95, 0.85),\n",
       " 'wd': 0.0,\n",
       " 'dropout': 0.1,\n",
       " 'train_iters': None,\n",
       " 'val_iters': None,\n",
       " 'device': device(type='cuda')}"
      ]
     },
     "execution_count": 5,
     "metadata": {},
     "output_type": "execute_result"
    }
   ],
   "source": [
    "from yamlf.default_settings import DefaultSettings\n",
    "\n",
    "defs = DefaultSettings.init()\n",
    "defs"
   ]
  },
  {
   "cell_type": "markdown",
   "metadata": {},
   "source": [
    "# Load Data\n",
    "Next is data loading class and setting dataloaders. This tutorial uses data loading from torchvision CIFAR10 dataset. So, there is no need to define a dataset class.\n",
    "\n",
    "`yamlf.vision` script contains class and functions for Computer Vision tasks such as Classification, localization, and segmentation.\n",
    "There are two ways to define dataloaders to pass it to trainer:\n",
    " 1. create a dict of dataloaders like\n",
    " `dls = {\n",
    "    \"train\": torch.utils.data.DataLoader(trainset, ...),\n",
    "    \"val\": torch.utils.data.DataLoader(valset, ...),\n",
    "    \"test\": torch.utils.data.DataLoader(testset, ...)\n",
    "    }`\n",
    " 2. use `yamlf.vision.LoadData` class as given below."
   ]
  },
  {
   "cell_type": "code",
   "execution_count": 6,
   "metadata": {
    "ExecuteTime": {
     "end_time": "2020-06-29T22:31:09.957199Z",
     "start_time": "2020-06-29T22:31:09.260840Z"
    }
   },
   "outputs": [],
   "source": [
    "from yamlf.vision import *"
   ]
  },
  {
   "cell_type": "code",
   "execution_count": 7,
   "metadata": {
    "ExecuteTime": {
     "end_time": "2020-06-29T22:31:11.427129Z",
     "start_time": "2020-06-29T22:31:09.958510Z"
    }
   },
   "outputs": [
    {
     "name": "stdout",
     "output_type": "stream",
     "text": [
      "Files already downloaded and verified\n",
      "Files already downloaded and verified\n"
     ]
    }
   ],
   "source": [
    "train_tsfms = tv.transforms.Compose([\n",
    "    tv.transforms.ToTensor(),\n",
    "])\n",
    "test_tsfms  = tv.transforms.Compose([\n",
    "    tv.transforms.ToTensor(),\n",
    "])\n",
    "\n",
    "trainset = tv.datasets.CIFAR10(root='./data', train=True, download=True, transform=train_tsfms)\n",
    "testset  = tv.datasets.CIFAR10(root='./data', train=False, download=True, transform=test_tsfms)\n",
    "classes = ('plane', 'car', 'bird', 'cat', 'deer', 'dog', 'frog', 'horse', 'ship', 'truck')\n",
    "\n",
    "defs[\"num_cls\"] = len(classes)"
   ]
  },
  {
   "cell_type": "code",
   "execution_count": 8,
   "metadata": {
    "ExecuteTime": {
     "end_time": "2020-06-29T22:31:11.559374Z",
     "start_time": "2020-06-29T22:31:11.429141Z"
    }
   },
   "outputs": [
    {
     "data": {
      "text/plain": [
       "yamlf.vision.LoadData class\n",
       "trainset -> num samples: 50000, num batches: 782\n",
       "valset -> num samples: 10000, num batches: 157"
      ]
     },
     "execution_count": 8,
     "metadata": {},
     "output_type": "execute_result"
    }
   ],
   "source": [
    "# defs are defaults settings dict that contains batchsize,\n",
    "# num_workers, etc. parameters\n",
    "dls = LoadData(trainset, testset, defs=defs)\n",
    "dls"
   ]
  },
  {
   "cell_type": "markdown",
   "metadata": {},
   "source": [
    "# Model or Network\n",
    "define a model to train.\n",
    "\n",
    "`yamlf.utils.net_stats` is a useful function for brief network information"
   ]
  },
  {
   "cell_type": "code",
   "execution_count": 9,
   "metadata": {
    "ExecuteTime": {
     "end_time": "2020-06-29T22:31:11.589646Z",
     "start_time": "2020-06-29T22:31:11.561819Z"
    }
   },
   "outputs": [],
   "source": [
    "from yamlf.utils import net_stats"
   ]
  },
  {
   "cell_type": "code",
   "execution_count": 10,
   "metadata": {
    "ExecuteTime": {
     "end_time": "2020-06-29T22:31:11.786509Z",
     "start_time": "2020-06-29T22:31:11.591057Z"
    }
   },
   "outputs": [
    {
     "name": "stdout",
     "output_type": "stream",
     "text": [
      "NETWORK STATS:\n",
      "20 convs\n",
      "20 batchnorms\n",
      "1 dense\n",
      "# parameters: 11.182M\n"
     ]
    }
   ],
   "source": [
    "# The convention for model is net in this framework. You can also use model if you like.\n",
    "net = tv.models.resnet18(num_classes=10)\n",
    "net_stats(net)"
   ]
  },
  {
   "cell_type": "markdown",
   "metadata": {},
   "source": [
    "# Training and validation\n",
    "The *Trainer* class is inspired by fast.ai.\n",
    "\n",
    "Just import the Trainer and provide data, network, loss. Some values such as optimizer and learning rate scheduler has default values."
   ]
  },
  {
   "cell_type": "code",
   "execution_count": 11,
   "metadata": {
    "ExecuteTime": {
     "end_time": "2020-06-29T22:31:12.350044Z",
     "start_time": "2020-06-29T22:31:12.173154Z"
    }
   },
   "outputs": [
    {
     "name": "stdout",
     "output_type": "stream",
     "text": [
      "Apex recommended for faster mixed precision training: https://github.com/NVIDIA/apex\n"
     ]
    }
   ],
   "source": [
    "from yamlf.nn_trainer import Trainer\n",
    "import torch.nn as nn"
   ]
  },
  {
   "cell_type": "code",
   "execution_count": 12,
   "metadata": {
    "ExecuteTime": {
     "end_time": "2020-06-29T22:31:13.908552Z",
     "start_time": "2020-06-29T22:31:12.533491Z"
    }
   },
   "outputs": [],
   "source": [
    "model = Trainer(dls, net, nn.CrossEntropyLoss(), metrics='acc')"
   ]
  },
  {
   "cell_type": "markdown",
   "metadata": {},
   "source": [
    "After initializing the Trainer class, we can check if everything works fine by training for few iterations than running the whole epoch of data. It is useful to check if code is working for full training. This can be achieve by setting `model.fit(..., train_iters=5, val_iters=5)` as shown below:"
   ]
  },
  {
   "cell_type": "code",
   "execution_count": 13,
   "metadata": {
    "ExecuteTime": {
     "end_time": "2020-06-29T22:31:16.860563Z",
     "start_time": "2020-06-29T22:31:14.982652Z"
    }
   },
   "outputs": [
    {
     "data": {
      "text/html": [
       "<table border=\"1\" class=\"dataframe\">\n",
       "  <thead>\n",
       "    <tr style=\"text-align: left;\">\n",
       "      <th>epoch</th>\n",
       "      <th>train_loss</th>\n",
       "      <th>train_acc</th>\n",
       "      <th>val_loss</th>\n",
       "      <th>val_acc</th>\n",
       "      <th>time</th>\n",
       "    </tr>\n",
       "  </thead>\n",
       "  <tbody>\n",
       "    <tr>\n",
       "      <td>0</td>\n",
       "      <td>2.65403</td>\n",
       "      <td>0.10312</td>\n",
       "      <td>2.31296</td>\n",
       "      <td>0.09688</td>\n",
       "      <td>0.8922524452209473 secs</td>\n",
       "    </tr>\n",
       "    <tr>\n",
       "      <td>1</td>\n",
       "      <td>2.45588</td>\n",
       "      <td>0.15937</td>\n",
       "      <td>2.32984</td>\n",
       "      <td>0.10312</td>\n",
       "      <td>0.578148365020752 secs</td>\n",
       "    </tr>\n",
       "  </tbody>\n",
       "</table>"
      ],
      "text/plain": [
       "<IPython.core.display.HTML object>"
      ]
     },
     "metadata": {},
     "output_type": "display_data"
    }
   ],
   "source": [
    "model.fit(2, 1e-3, train_iters=5, val_iters=5)"
   ]
  },
  {
   "cell_type": "markdown",
   "metadata": {},
   "source": [
    "After that, we can run full training as:"
   ]
  },
  {
   "cell_type": "code",
   "execution_count": null,
   "metadata": {
    "ExecuteTime": {
     "start_time": "2020-06-29T22:31:15.920Z"
    }
   },
   "outputs": [
    {
     "data": {
      "text/html": [
       "\n",
       "    <div>\n",
       "        <style>\n",
       "            /* Turns off some styling */\n",
       "            progress {\n",
       "                /* gets rid of default border in Firefox and Opera. */\n",
       "                border: none;\n",
       "                /* Needs to be in here for Safari polyfill so background images work as expected. */\n",
       "                background-size: auto;\n",
       "            }\n",
       "            .progress-bar-interrupted, .progress-bar-interrupted::-webkit-progress-bar {\n",
       "                background: #F44336;\n",
       "            }\n",
       "        </style>\n",
       "      <progress value='0' class='' max='5' style='width:300px; height:20px; vertical-align: middle;'></progress>\n",
       "      0.00% [0/5 00:00<00:00]\n",
       "    </div>\n",
       "    \n",
       "\n",
       "\n",
       "    <div>\n",
       "        <style>\n",
       "            /* Turns off some styling */\n",
       "            progress {\n",
       "                /* gets rid of default border in Firefox and Opera. */\n",
       "                border: none;\n",
       "                /* Needs to be in here for Safari polyfill so background images work as expected. */\n",
       "                background-size: auto;\n",
       "            }\n",
       "            .progress-bar-interrupted, .progress-bar-interrupted::-webkit-progress-bar {\n",
       "                background: #F44336;\n",
       "            }\n",
       "        </style>\n",
       "      <progress value='35' class='' max='782' style='width:300px; height:20px; vertical-align: middle;'></progress>\n",
       "      4.48% [35/782 00:01<00:42 | loss: 2.04343]\n",
       "    </div>\n",
       "    "
      ],
      "text/plain": [
       "<IPython.core.display.HTML object>"
      ]
     },
     "metadata": {},
     "output_type": "display_data"
    }
   ],
   "source": [
    "model.fit(epochs=5, lr=1e-3)"
   ]
  },
  {
   "cell_type": "markdown",
   "metadata": {},
   "source": [
    "If low_stroage is not True in default settings dict then a checkpoint folder will be created which contains tensorboard logs, last epoch training checkpoint.\n",
    "Also, model weights can be saved manually by calling `model.save_weights()`. Similarly, `model.load_weights()` can be used to load model weights"
   ]
  },
  {
   "cell_type": "code",
   "execution_count": null,
   "metadata": {
    "ExecuteTime": {
     "start_time": "2020-06-29T22:31:16.319Z"
    }
   },
   "outputs": [],
   "source": [
    "model.save_weights()"
   ]
  },
  {
   "cell_type": "code",
   "execution_count": null,
   "metadata": {
    "ExecuteTime": {
     "start_time": "2020-06-29T22:31:17.756Z"
    }
   },
   "outputs": [],
   "source": [
    "# Start new training and check weights\n",
    "net = tv.models.resnet18(num_classes=10)\n",
    "model = Trainer(dls, net, nn.CrossEntropyLoss(), metrics='acc')\n",
    "model.test_dl = model.val_dl\n",
    "model.test()"
   ]
  },
  {
   "cell_type": "code",
   "execution_count": null,
   "metadata": {
    "ExecuteTime": {
     "end_time": "2020-06-29T22:29:19.984158Z",
     "start_time": "2020-06-29T22:29:16.885Z"
    }
   },
   "outputs": [],
   "source": [
    "# Load saved weights and test\n",
    "model.load_weights()\n",
    "model.test_dl = model.val_dl\n",
    "model.test()"
   ]
  },
  {
   "cell_type": "code",
   "execution_count": null,
   "metadata": {},
   "outputs": [],
   "source": []
  }
 ],
 "metadata": {
  "kernelspec": {
   "display_name": "Python 3",
   "language": "python",
   "name": "python3"
  },
  "language_info": {
   "codemirror_mode": {
    "name": "ipython",
    "version": 3
   },
   "file_extension": ".py",
   "mimetype": "text/x-python",
   "name": "python",
   "nbconvert_exporter": "python",
   "pygments_lexer": "ipython3",
   "version": "3.8.3"
  }
 },
 "nbformat": 4,
 "nbformat_minor": 4
}
